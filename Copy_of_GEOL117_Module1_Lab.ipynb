{
  "nbformat": 4,
  "nbformat_minor": 0,
  "metadata": {
    "colab": {
      "provenance": [],
      "include_colab_link": true
    },
    "kernelspec": {
      "name": "python3",
      "display_name": "Python 3"
    },
    "language_info": {
      "name": "python"
    }
  },
  "cells": [
    {
      "cell_type": "markdown",
      "metadata": {
        "id": "view-in-github",
        "colab_type": "text"
      },
      "source": [
        "<a href=\"https://colab.research.google.com/github/maryum316/Detect-Distance-D435i/blob/main/Copy_of_GEOL117_Module1_Lab.ipynb\" target=\"_parent\"><img src=\"https://colab.research.google.com/assets/colab-badge.svg\" alt=\"Open In Colab\"/></a>"
      ]
    },
    {
      "cell_type": "markdown",
      "source": [
        "# Lab 1: Introduction to Python, Google CoLab, and Jupyter Notebook\n",
        "\n",
        "Welcome to Lab 1! This lab is designed to help you familiarize yourself with Python, Google CoLab, Jupyter Notebook, and GitHub. By the end of this lab, you should be able to execute code in a Jupyter Notebook, make simple modifications to the code, and copy and paste a section of code to start a modified section.\n",
        "\n",
        "#Part 1: Introduction to Python\n",
        "\n",
        "Python is a popular programming language that is widely used in the scientific and data analysis communities. It is known for its simplicity, readability, and flexibility.\n",
        "\n",
        "In this section, you will learn how to execute basic Python code in a Jupyter Notebook.\n",
        "\n",
        "First, let's try running a simple print statement. In the cell below, type print(\"Hello, World!\") and press Shift+Enter to run the code.\n"
      ],
      "metadata": {
        "id": "OjvYq15gWJDo"
      }
    },
    {
      "cell_type": "code",
      "source": [
        "from IPython.display import HTML\n",
        "\n",
        "HTML('<iframe id=\"kmsembed-1_vcoh14q1\" width=\"640\" height=\"394\" src=\"https://mediaspace.illinois.edu/embed/secure/iframe/entryId/1_vcoh14q1/uiConfId/26883701/st/0\" class=\"kmsembed\" allowfullscreen webkitallowfullscreen mozAllowFullScreen allow=\"autoplay *; fullscreen *; encrypted-media *\" referrerPolicy=\"no-referrer-when-downgrade\" sandbox=\"allow-downloads allow-forms allow-same-origin allow-scripts allow-top-navigation allow-pointer-lock allow-popups allow-modals allow-orientation-lock allow-popups-to-escape-sandbox allow-presentation allow-top-navigation-by-user-activation\" frameborder=\"0\" title=\"GEOL117_L1_Vid1\"></iframe>')\n"
      ],
      "metadata": {
        "colab": {
          "base_uri": "https://localhost:8080/",
          "height": 450
        },
        "id": "g2ZDzHpqYXH8",
        "outputId": "1c1b097d-a9e4-49f6-c5b8-f4201729abc6"
      },
      "execution_count": null,
      "outputs": [
        {
          "output_type": "stream",
          "name": "stderr",
          "text": [
            "/usr/local/lib/python3.10/dist-packages/IPython/core/display.py:724: UserWarning: Consider using IPython.display.IFrame instead\n",
            "  warnings.warn(\"Consider using IPython.display.IFrame instead\")\n"
          ]
        },
        {
          "output_type": "execute_result",
          "data": {
            "text/plain": [
              "<IPython.core.display.HTML object>"
            ],
            "text/html": [
              "<iframe id=\"kmsembed-1_vcoh14q1\" width=\"640\" height=\"394\" src=\"https://mediaspace.illinois.edu/embed/secure/iframe/entryId/1_vcoh14q1/uiConfId/26883701/st/0\" class=\"kmsembed\" allowfullscreen webkitallowfullscreen mozAllowFullScreen allow=\"autoplay *; fullscreen *; encrypted-media *\" referrerPolicy=\"no-referrer-when-downgrade\" sandbox=\"allow-downloads allow-forms allow-same-origin allow-scripts allow-top-navigation allow-pointer-lock allow-popups allow-modals allow-orientation-lock allow-popups-to-escape-sandbox allow-presentation allow-top-navigation-by-user-activation\" frameborder=\"0\" title=\"GEOL117_L1_Vid1\"></iframe>"
            ]
          },
          "metadata": {},
          "execution_count": 1
        }
      ]
    },
    {
      "cell_type": "code",
      "source": [
        "print(\"Hello, World!\")"
      ],
      "metadata": {
        "id": "7DX-6I5iVZDu",
        "colab": {
          "base_uri": "https://localhost:8080/"
        },
        "outputId": "683f165c-8c5e-4900-a10c-9642b8577e4c"
      },
      "execution_count": null,
      "outputs": [
        {
          "output_type": "stream",
          "name": "stdout",
          "text": [
            "Hello, World!\n"
          ]
        }
      ]
    },
    {
      "cell_type": "markdown",
      "source": [
        "\n",
        "Great! You just ran your first Python code.\n",
        "\n",
        "Now let's try a simple mathematical operation. In the cell below, type 2 + 2 and press Shift+Enter to run the code."
      ],
      "metadata": {
        "id": "H9NfhDIEVbS9"
      }
    },
    {
      "cell_type": "code",
      "source": [
        "2 + 2"
      ],
      "metadata": {
        "id": "wGBS6vBtVkWK",
        "outputId": "04bdd1c5-e25c-4818-c6ec-1422ca26bbe8",
        "colab": {
          "base_uri": "https://localhost:8080/"
        }
      },
      "execution_count": null,
      "outputs": [
        {
          "output_type": "execute_result",
          "data": {
            "text/plain": [
              "4"
            ]
          },
          "metadata": {},
          "execution_count": 2
        }
      ]
    },
    {
      "cell_type": "markdown",
      "source": [
        "### Variables and Data Types\n",
        "\n",
        "In Python, you can create variables to store values. A variable is a named location in memory where you can store a value.\n",
        "\n",
        "To create a variable in Python, you can use the `=` operator. For example:\n"
      ],
      "metadata": {
        "id": "VuzBl2SJVVSl"
      }
    },
    {
      "cell_type": "code",
      "source": [
        "x = 10\n",
        "y = 20\n",
        "z = x + y\n",
        "\n",
        "# Print the value of z\n",
        "print(z)"
      ],
      "metadata": {
        "id": "TlsH2MMWam8p",
        "outputId": "1ac0dcfd-7e45-42e7-b47a-bfd6bce32a88",
        "colab": {
          "base_uri": "https://localhost:8080/"
        }
      },
      "execution_count": null,
      "outputs": [
        {
          "output_type": "stream",
          "name": "stdout",
          "text": [
            "30\n"
          ]
        }
      ]
    },
    {
      "cell_type": "markdown",
      "source": [
        "This code creates three variables: x, y, and z. The value of x is 10, the value of y is 20, and the value of z is the sum of x and y, which is 30.\n",
        "\n",
        "In Python, variables can be of different data types, such as integers, floats, strings, and booleans.\n",
        "\n",
        "An integer is a whole number, such as 10, 20, or 30.\n",
        "\n",
        "A float is a decimal number, such as 3.14, 2.718, or 1.6180.\n",
        "\n",
        "A string is a sequence of characters, such as \"Hello\", \"World\", or \"Python\". Strings must be enclosed in quotation marks.\n",
        "\n",
        "A boolean is a value that is either True or False.\n",
        "\n",
        "You can use the type function to determine the data type of a variable. For example:"
      ],
      "metadata": {
        "id": "9L0jqi2GaqRY"
      }
    },
    {
      "cell_type": "code",
      "source": [
        "# Create variables x, y, and z\n",
        "x = 10\n",
        "y = 20.0\n",
        "z = \"Python\"\n",
        "\n",
        "# Print the data type of each variable\n",
        "print(type(x))\n",
        "print(type(y))\n",
        "print(type(z))"
      ],
      "metadata": {
        "colab": {
          "base_uri": "https://localhost:8080/"
        },
        "id": "s4X3ULv6Vqt7",
        "outputId": "6697ab43-c120-4e89-e396-c49ccb672938"
      },
      "execution_count": null,
      "outputs": [
        {
          "output_type": "stream",
          "name": "stdout",
          "text": [
            "<class 'int'>\n",
            "<class 'float'>\n",
            "<class 'str'>\n"
          ]
        }
      ]
    },
    {
      "cell_type": "markdown",
      "source": [
        "This code creates three variables: x, y, and z. The value of x is an integer, the value of y is a float, and the value of z is a string.\n",
        "\n",
        "Next, here is an example of calculating the area of a circle in Python:"
      ],
      "metadata": {
        "id": "KVO9VkiGVvCQ"
      }
    },
    {
      "cell_type": "code",
      "source": [
        "# Import the math module\n",
        "import math\n",
        "\n",
        "# Define the radius of the circle\n",
        "radius = 5\n",
        "\n",
        "# Calculate the area of the circle\n",
        "area = math.pi * radius**2\n",
        "\n",
        "# Print the result\n",
        "print(area)"
      ],
      "metadata": {
        "id": "V1s1BjpFbBmp",
        "outputId": "2346571b-6ea1-4ed1-bc86-14fdf029ea3d",
        "colab": {
          "base_uri": "https://localhost:8080/"
        }
      },
      "execution_count": null,
      "outputs": [
        {
          "output_type": "stream",
          "name": "stdout",
          "text": [
            "78.53981633974483\n"
          ]
        }
      ]
    },
    {
      "cell_type": "markdown",
      "source": [
        "This code calculates the area of a circle with radius 5, which is approximately 78.54.\n",
        "\n",
        "# Basic Operations\n",
        "In Python, you can perform basic arithmetic operations such as addition, subtraction, multiplication, and division.\n",
        "\n",
        "For example:"
      ],
      "metadata": {
        "id": "mIQu_pEjbIMA"
      }
    },
    {
      "cell_type": "code",
      "source": [
        "# Add two numbers\n",
        "x = 10\n",
        "y = 20\n",
        "z = x + y\n",
        "print(z)  # prints 30\n",
        "\n",
        "# Subtract two numbers\n",
        "x = 10\n",
        "y = 20\n",
        "z = x - y\n",
        "print(z)  # prints -10\n",
        "\n",
        "# Multiply two numbers\n",
        "x = 10\n",
        "y = 20\n",
        "z = x * y\n",
        "print(z)  # prints 200\n",
        "\n",
        "# Divide two numbers\n",
        "x = 10\n",
        "y = 20\n",
        "z = x / y\n",
        "print(z)  # prints 0.5"
      ],
      "metadata": {
        "id": "UlUCCUohbmKh",
        "outputId": "5edd2079-7159-4421-de59-fbf07284fcad",
        "colab": {
          "base_uri": "https://localhost:8080/"
        }
      },
      "execution_count": null,
      "outputs": [
        {
          "output_type": "stream",
          "name": "stdout",
          "text": [
            "30\n",
            "-10\n",
            "200\n",
            "0.5\n"
          ]
        }
      ]
    },
    {
      "cell_type": "markdown",
      "source": [
        "You can also use the % operator to calculate the remainder of a division. For example:"
      ],
      "metadata": {
        "id": "Ako6JGrpbodr"
      }
    },
    {
      "cell_type": "code",
      "source": [
        "# Calculate the remainder of a division\n",
        "x = 10\n",
        "y = 3\n",
        "z = x % y\n",
        "print(z)  # prints 1"
      ],
      "metadata": {
        "id": "v4H1IgY6bqfX",
        "outputId": "967589f2-56ac-43e7-d100-1b9dd7bb317d",
        "colab": {
          "base_uri": "https://localhost:8080/"
        }
      },
      "execution_count": null,
      "outputs": [
        {
          "output_type": "stream",
          "name": "stdout",
          "text": [
            "1\n"
          ]
        }
      ]
    },
    {
      "cell_type": "markdown",
      "source": [
        "You can use the ** operator to calculate the power of a number. For example:"
      ],
      "metadata": {
        "id": "x77q7r0KbwO1"
      }
    },
    {
      "cell_type": "code",
      "source": [
        "# Calculate the power of a number\n",
        "x = 2\n",
        "y = 3\n",
        "z = x ** y\n",
        "print(z)  # prints 8"
      ],
      "metadata": {
        "id": "p7ILXxdibyMW",
        "outputId": "2386ad6c-ebb5-410c-b9a3-ce67176c44e0",
        "colab": {
          "base_uri": "https://localhost:8080/"
        }
      },
      "execution_count": null,
      "outputs": [
        {
          "output_type": "stream",
          "name": "stdout",
          "text": [
            "8\n"
          ]
        }
      ]
    },
    {
      "cell_type": "code",
      "source": [
        "from IPython.display import HTML\n",
        "\n",
        "HTML('<iframe id=\"kmsembed-1_eqqza7cv\" width=\"640\" height=\"394\" src=\"https://mediaspace.illinois.edu/embed/secure/iframe/entryId/1_eqqza7cv/uiConfId/26883701/st/0\" class=\"kmsembed\" allowfullscreen webkitallowfullscreen mozAllowFullScreen allow=\"autoplay *; fullscreen *; encrypted-media *\" referrerPolicy=\"no-referrer-when-downgrade\" sandbox=\"allow-downloads allow-forms allow-same-origin allow-scripts allow-top-navigation allow-pointer-lock allow-popups allow-modals allow-orientation-lock allow-popups-to-escape-sandbox allow-presentation allow-top-navigation-by-user-activation\" frameborder=\"0\" title=\"GEOL117_L1_Vid2\"></iframe>')\n"
      ],
      "metadata": {
        "colab": {
          "base_uri": "https://localhost:8080/",
          "height": 415
        },
        "id": "dgJCaYZ8Kwbz",
        "outputId": "fd33c5fb-2687-437b-e422-9c47dee6ced0"
      },
      "execution_count": null,
      "outputs": [
        {
          "output_type": "execute_result",
          "data": {
            "text/plain": [
              "<IPython.core.display.HTML object>"
            ],
            "text/html": [
              "<iframe id=\"kmsembed-1_eqqza7cv\" width=\"640\" height=\"394\" src=\"https://mediaspace.illinois.edu/embed/secure/iframe/entryId/1_eqqza7cv/uiConfId/26883701/st/0\" class=\"kmsembed\" allowfullscreen webkitallowfullscreen mozAllowFullScreen allow=\"autoplay *; fullscreen *; encrypted-media *\" referrerPolicy=\"no-referrer-when-downgrade\" sandbox=\"allow-downloads allow-forms allow-same-origin allow-scripts allow-top-navigation allow-pointer-lock allow-popups allow-modals allow-orientation-lock allow-popups-to-escape-sandbox allow-presentation allow-top-navigation-by-user-activation\" frameborder=\"0\" title=\"GEOL117_L1_Vid2\"></iframe>"
            ]
          },
          "metadata": {},
          "execution_count": 2
        }
      ]
    },
    {
      "cell_type": "markdown",
      "source": [
        "# Lists\n",
        "In Python, you can create a list to store a collection of values. A list is an ordered collection of items, and each item can be of a different data type.\n",
        "\n",
        "To create a list, you can use square brackets [] and separate the items with commas. For example:\n",
        "\n"
      ],
      "metadata": {
        "id": "8BEt8Ajob4QY"
      }
    },
    {
      "cell_type": "code",
      "source": [
        "# Create a list\n",
        "my_list = [\"apple\", \"banana\", \"cherry\"]\n",
        "\n",
        "# Access the first item\n",
        "print(my_list[0])  # prints \"apple\"\n",
        "\n",
        "# Access the second item\n",
        "print(my_list[1])  # prints \"banana\"\n",
        "\n",
        "# Access the third item\n",
        "print(my_list[2])  # prints \"cherry\"\n"
      ],
      "metadata": {
        "id": "_IAG7Asgb8Q5",
        "outputId": "3b76d7e3-b419-4a7e-ca27-1c8a24510797",
        "colab": {
          "base_uri": "https://localhost:8080/"
        }
      },
      "execution_count": null,
      "outputs": [
        {
          "output_type": "stream",
          "name": "stdout",
          "text": [
            "apple\n",
            "banana\n",
            "cherry\n"
          ]
        }
      ]
    },
    {
      "cell_type": "markdown",
      "source": [
        "You can modify the items in a list by assigning a new value to them. For example:"
      ],
      "metadata": {
        "id": "GhK-BssSb95l"
      }
    },
    {
      "cell_type": "code",
      "source": [
        "# Create a list\n",
        "my_list = [\"apple\", \"banana\", \"cherry\"]\n",
        "\n",
        "# Modify the second item\n",
        "my_list[1] = \"orange\"\n",
        "print(my_list)  # prints [\"apple\", \"orange\", \"cherry\"]\n"
      ],
      "metadata": {
        "id": "WTioFWNScBhG",
        "outputId": "b2618e6f-d64d-42f4-db08-3846bd08b467",
        "colab": {
          "base_uri": "https://localhost:8080/"
        }
      },
      "execution_count": null,
      "outputs": [
        {
          "output_type": "stream",
          "name": "stdout",
          "text": [
            "['apple', 'orange', 'cherry']\n"
          ]
        }
      ]
    },
    {
      "cell_type": "markdown",
      "source": [
        "You can add items to a list using the append method. For example:"
      ],
      "metadata": {
        "id": "y8kwrDE7cDze"
      }
    },
    {
      "cell_type": "code",
      "source": [
        "# Create a list\n",
        "my_list = [\"apple\", \"banana\", \"cherry\"]\n",
        "\n",
        "# Add a new item to the list\n",
        "my_list.append(\"orange\")\n",
        "print(my_list)  # prints [\"apple\", \"banana\", \"cherry\", \"orange\"]\n"
      ],
      "metadata": {
        "id": "ANeqAmtocGIb",
        "outputId": "a4db733b-496c-47f3-dca6-bc4d52a9ef45",
        "colab": {
          "base_uri": "https://localhost:8080/"
        }
      },
      "execution_count": null,
      "outputs": [
        {
          "output_type": "stream",
          "name": "stdout",
          "text": [
            "['apple', 'banana', 'cherry', 'orange']\n"
          ]
        }
      ]
    },
    {
      "cell_type": "markdown",
      "source": [
        "You can remove items from a list using the remove method. For example:"
      ],
      "metadata": {
        "id": "O0xf3j4XcHii"
      }
    },
    {
      "cell_type": "code",
      "source": [
        "# Create a list\n",
        "my_list = [\"apple\", \"banana\", \"cherry\"]\n",
        "\n",
        "# Remove the second item from the list\n",
        "my_list.remove(\"banana\")\n",
        "print(my_list)  # prints [\"apple\", \"cherry\"]\n"
      ],
      "metadata": {
        "id": "yoFsq0S2cLxW",
        "outputId": "f1fe969a-ada4-4c58-a424-d678ae9d4f77",
        "colab": {
          "base_uri": "https://localhost:8080/"
        }
      },
      "execution_count": null,
      "outputs": [
        {
          "output_type": "stream",
          "name": "stdout",
          "text": [
            "['apple', 'cherry']\n"
          ]
        }
      ]
    },
    {
      "cell_type": "markdown",
      "source": [
        "You can also use the del statement to remove items from a list. For example:\n",
        "\n"
      ],
      "metadata": {
        "id": "IAe2bUI8cPXl"
      }
    },
    {
      "cell_type": "code",
      "source": [
        "# Create a list\n",
        "my_list = [\"apple\", \"banana\", \"cherry\"]\n",
        "\n",
        "# Remove the second item from the list\n",
        "del my_list[1]\n",
        "print(my_list)  # prints [\"apple\", \"cherry\"]\n"
      ],
      "metadata": {
        "id": "DofxKUyvcP9F",
        "outputId": "abbdfea4-f6c8-46b3-98d5-22feb992c0d6",
        "colab": {
          "base_uri": "https://localhost:8080/"
        }
      },
      "execution_count": null,
      "outputs": [
        {
          "output_type": "stream",
          "name": "stdout",
          "text": [
            "['apple', 'cherry']\n"
          ]
        }
      ]
    },
    {
      "cell_type": "code",
      "source": [
        "from IPython.display import HTML\n",
        "\n",
        "HTML('<iframe id=\"kmsembed-1_otxcggwa\" width=\"640\" height=\"394\" src=\"https://mediaspace.illinois.edu/embed/secure/iframe/entryId/1_otxcggwa/uiConfId/26883701/st/0\" class=\"kmsembed\" allowfullscreen webkitallowfullscreen mozAllowFullScreen allow=\"autoplay *; fullscreen *; encrypted-media *\" referrerPolicy=\"no-referrer-when-downgrade\" sandbox=\"allow-downloads allow-forms allow-same-origin allow-scripts allow-top-navigation allow-pointer-lock allow-popups allow-modals allow-orientation-lock allow-popups-to-escape-sandbox allow-presentation allow-top-navigation-by-user-activation\" frameborder=\"0\" title=\"GEOL117_L1_Vid3\"></iframe>')\n"
      ],
      "metadata": {
        "colab": {
          "base_uri": "https://localhost:8080/",
          "height": 415
        },
        "id": "mdVF3B3sOOwF",
        "outputId": "b9af9f60-5537-4c3b-9689-2f71b8cf9a13"
      },
      "execution_count": null,
      "outputs": [
        {
          "output_type": "execute_result",
          "data": {
            "text/plain": [
              "<IPython.core.display.HTML object>"
            ],
            "text/html": [
              "<iframe id=\"kmsembed-1_otxcggwa\" width=\"640\" height=\"394\" src=\"https://mediaspace.illinois.edu/embed/secure/iframe/entryId/1_otxcggwa/uiConfId/26883701/st/0\" class=\"kmsembed\" allowfullscreen webkitallowfullscreen mozAllowFullScreen allow=\"autoplay *; fullscreen *; encrypted-media *\" referrerPolicy=\"no-referrer-when-downgrade\" sandbox=\"allow-downloads allow-forms allow-same-origin allow-scripts allow-top-navigation allow-pointer-lock allow-popups allow-modals allow-orientation-lock allow-popups-to-escape-sandbox allow-presentation allow-top-navigation-by-user-activation\" frameborder=\"0\" title=\"GEOL117_L1_Vid3\"></iframe>"
            ]
          },
          "metadata": {},
          "execution_count": 3
        }
      ]
    },
    {
      "cell_type": "markdown",
      "source": [
        "# Tuples\n",
        "In Python, you can create a tuple to store a collection of values. A tuple is similar to a list, but it is immutable, which means that you cannot modify the items in a tuple.\n",
        "\n",
        "To create a tuple, you can use parentheses () and separate the items with commas. For example:\n",
        "\n"
      ],
      "metadata": {
        "id": "Yb_ZJxhIcVBj"
      }
    },
    {
      "cell_type": "code",
      "source": [
        "# Create a tuple of integers\n",
        "my_tuple = (10, 20, 30, 40, 50)\n",
        "\n",
        "# Create a tuple of strings\n",
        "my_tuple = (\"apple\", \"banana\", \"cherry\")\n",
        "\n",
        "# Create a tuple of mixed data types\n",
        "my_tuple = (10, \"apple\", 3.14, True)\n"
      ],
      "metadata": {
        "id": "PXIwryy6cYSr"
      },
      "execution_count": null,
      "outputs": []
    },
    {
      "cell_type": "markdown",
      "source": [
        "You can access the items in a tuple using their indices. The indices start at 0, so the first item has index 0, the second item has index 1, and so on.\n",
        "\n",
        "For example:"
      ],
      "metadata": {
        "id": "M4yUH4hYcaTU"
      }
    },
    {
      "cell_type": "code",
      "source": [
        "# Create a tuple\n",
        "my_tuple = (\"apple\", \"banana\", \"cherry\")\n",
        "\n",
        "# Access the first item\n",
        "print(my_tuple[0])  # prints \"apple\"\n",
        "\n",
        "# Access the second item\n",
        "print(my_tuple[1])  # prints \"banana\"\n",
        "\n",
        "# Access the third item\n",
        "print(my_tuple[2])  # prints \"cherry\"\n"
      ],
      "metadata": {
        "id": "z0IaSvOIccge",
        "outputId": "d1337813-ca56-4b2a-8987-b40e8e800ffd",
        "colab": {
          "base_uri": "https://localhost:8080/"
        }
      },
      "execution_count": null,
      "outputs": [
        {
          "output_type": "stream",
          "name": "stdout",
          "text": [
            "apple\n",
            "banana\n",
            "cherry\n"
          ]
        }
      ]
    },
    {
      "cell_type": "markdown",
      "source": [
        "You cannot modify the items in a tuple. If you try to assign a new value to an item in a tuple, you will get a TypeError message.\n",
        "\n",
        "For example:"
      ],
      "metadata": {
        "id": "3npPoZhMcepe"
      }
    },
    {
      "cell_type": "code",
      "source": [
        "# Create a tuple\n",
        "my_tuple = (\"apple\", \"banana\", \"cherry\")\n",
        "\n",
        "# Try to modify the second item\n",
        "my_tuple[1] = \"orange\"  # This line will cause a TypeError\n"
      ],
      "metadata": {
        "id": "HCFUAXuYclfF",
        "outputId": "2d92759f-ef33-4baf-eaf2-0a12eb35002f",
        "colab": {
          "base_uri": "https://localhost:8080/",
          "height": 214
        }
      },
      "execution_count": null,
      "outputs": [
        {
          "output_type": "error",
          "ename": "TypeError",
          "evalue": "ignored",
          "traceback": [
            "\u001b[0;31m---------------------------------------------------------------------------\u001b[0m",
            "\u001b[0;31mTypeError\u001b[0m                                 Traceback (most recent call last)",
            "\u001b[0;32m<ipython-input-16-dede103312da>\u001b[0m in \u001b[0;36m<cell line: 5>\u001b[0;34m()\u001b[0m\n\u001b[1;32m      3\u001b[0m \u001b[0;34m\u001b[0m\u001b[0m\n\u001b[1;32m      4\u001b[0m \u001b[0;31m# Try to modify the second item\u001b[0m\u001b[0;34m\u001b[0m\u001b[0;34m\u001b[0m\u001b[0m\n\u001b[0;32m----> 5\u001b[0;31m \u001b[0mmy_tuple\u001b[0m\u001b[0;34m[\u001b[0m\u001b[0;36m1\u001b[0m\u001b[0;34m]\u001b[0m \u001b[0;34m=\u001b[0m \u001b[0;34m\"orange\"\u001b[0m  \u001b[0;31m# This line will cause a TypeError\u001b[0m\u001b[0;34m\u001b[0m\u001b[0;34m\u001b[0m\u001b[0m\n\u001b[0m",
            "\u001b[0;31mTypeError\u001b[0m: 'tuple' object does not support item assignment"
          ]
        }
      ]
    },
    {
      "cell_type": "code",
      "source": [
        "from IPython.display import HTML\n",
        "\n",
        "HTML('<iframe id=\"kmsembed-1_ckwe3az5\" width=\"640\" height=\"394\" src=\"https://mediaspace.illinois.edu/embed/secure/iframe/entryId/1_ckwe3az5/uiConfId/26883701/st/0\" class=\"kmsembed\" allowfullscreen webkitallowfullscreen mozAllowFullScreen allow=\"autoplay *; fullscreen *; encrypted-media *\" referrerPolicy=\"no-referrer-when-downgrade\" sandbox=\"allow-downloads allow-forms allow-same-origin allow-scripts allow-top-navigation allow-pointer-lock allow-popups allow-modals allow-orientation-lock allow-popups-to-escape-sandbox allow-presentation allow-top-navigation-by-user-activation\" frameborder=\"0\" title=\"GEOL117_L1_Vid4\"></iframe>')\n"
      ],
      "metadata": {
        "colab": {
          "base_uri": "https://localhost:8080/",
          "height": 415
        },
        "id": "5RSrkUSBOTgd",
        "outputId": "3d434936-24e1-4fda-d9bc-6fe93f0eb284"
      },
      "execution_count": null,
      "outputs": [
        {
          "output_type": "execute_result",
          "data": {
            "text/plain": [
              "<IPython.core.display.HTML object>"
            ],
            "text/html": [
              "<iframe id=\"kmsembed-1_ckwe3az5\" width=\"640\" height=\"394\" src=\"https://mediaspace.illinois.edu/embed/secure/iframe/entryId/1_ckwe3az5/uiConfId/26883701/st/0\" class=\"kmsembed\" allowfullscreen webkitallowfullscreen mozAllowFullScreen allow=\"autoplay *; fullscreen *; encrypted-media *\" referrerPolicy=\"no-referrer-when-downgrade\" sandbox=\"allow-downloads allow-forms allow-same-origin allow-scripts allow-top-navigation allow-pointer-lock allow-popups allow-modals allow-orientation-lock allow-popups-to-escape-sandbox allow-presentation allow-top-navigation-by-user-activation\" frameborder=\"0\" title=\"GEOL117_L1_Vid4\"></iframe>"
            ]
          },
          "metadata": {},
          "execution_count": 4
        }
      ]
    },
    {
      "cell_type": "markdown",
      "source": [
        "# Dictionaries\n",
        "In Python, you can create a dictionary to store a collection of key-value pairs. A dictionary is a collection of items that are stored in the form of key-value pairs, where the key is a unique identifier and the value is the data.\n",
        "\n",
        "To create a dictionary, you can use curly braces {} and specify the key-value pairs using the format key: value. For example:"
      ],
      "metadata": {
        "id": "Xy58Y14BcnK6"
      }
    },
    {
      "cell_type": "code",
      "source": [
        "# Create a dictionary of integers\n",
        "my_dict = {\n",
        "    \"a\": 10,\n",
        "    \"b\": 20,\n",
        "    \"c\": 30\n",
        "}\n",
        "\n",
        "# Create a dictionary of strings\n",
        "my_dict = {\n",
        "    \"a\": \"apple\",\n",
        "    \"b\": \"banana\",\n",
        "    \"c\": \"cherry\"\n",
        "}\n",
        "\n",
        "# Create a dictionary of mixed data types\n",
        "my_dict = {\n",
        "    \"a\": 10,\n",
        "    \"b\": \"banana\",\n",
        "    \"c\": 3.14\n",
        "}\n"
      ],
      "metadata": {
        "id": "e0jj5yzFcu2U"
      },
      "execution_count": null,
      "outputs": []
    },
    {
      "cell_type": "markdown",
      "source": [
        "You can access the values in a dictionary using the keys. For example:\n"
      ],
      "metadata": {
        "id": "aQJu3y3KcwbX"
      }
    },
    {
      "cell_type": "code",
      "source": [
        "# Create a dictionary\n",
        "my_dict = {\n",
        "    \"a\": \"apple\",\n",
        "    \"b\": \"banana\",\n",
        "    \"c\": \"cherry\"\n",
        "}\n",
        "\n",
        "# Access the value for the key \"a\"\n",
        "print(my_dict[\"a\"])  # prints \"apple\"\n",
        "\n",
        "# Access the value for the key \"b\"\n",
        "print(my_dict[\"b\"])  # prints \"banana\"\n",
        "\n",
        "# Access the value for the key \"c\"\n",
        "print(my_dict[\"c\"])  # prints \"cherry\"\n"
      ],
      "metadata": {
        "id": "fDKnSISjcyvj",
        "outputId": "51c90d26-a49d-455c-99ff-dc7b4768c055",
        "colab": {
          "base_uri": "https://localhost:8080/"
        }
      },
      "execution_count": null,
      "outputs": [
        {
          "output_type": "stream",
          "name": "stdout",
          "text": [
            "apple\n",
            "banana\n",
            "cherry\n"
          ]
        }
      ]
    },
    {
      "cell_type": "markdown",
      "source": [
        "You can modify the values in a dictionary by assigning a new value to a key. For example:\n",
        "\n"
      ],
      "metadata": {
        "id": "dRILvlKJc06n"
      }
    },
    {
      "cell_type": "code",
      "source": [
        "# Create a dictionary\n",
        "my_dict = {\n",
        "    \"a\": \"apple\",\n",
        "    \"b\": \"banana\",\n",
        "    \"c\": \"cherry\"\n",
        "}\n",
        "\n",
        "# Modify the value for the key \"a\"\n",
        "my_dict[\"a\"] = \"orange\"\n",
        "print(my_dict)  # prints { \"a\": \"orange\", \"b\": \"banana\", \"c\": \"cherry\" }\n"
      ],
      "metadata": {
        "id": "regfG8dgc3QX",
        "outputId": "773ba66d-6db0-4ba2-ff84-528380ce8c4c",
        "colab": {
          "base_uri": "https://localhost:8080/"
        }
      },
      "execution_count": null,
      "outputs": [
        {
          "output_type": "stream",
          "name": "stdout",
          "text": [
            "{'a': 'orange', 'b': 'banana', 'c': 'cherry'}\n"
          ]
        }
      ]
    },
    {
      "cell_type": "markdown",
      "source": [
        "You can add new key-value pairs to a dictionary using the assignment operator =. For example:\n",
        "\n"
      ],
      "metadata": {
        "id": "1BZHxzCjc5pg"
      }
    },
    {
      "cell_type": "code",
      "source": [
        "# Create a dictionary\n",
        "my_dict = {\n",
        "    \"a\": \"apple\",\n",
        "    \"b\": \"banana\",\n",
        "    \"c\": \"cherry\"\n",
        "}\n",
        "\n",
        "# Add a new key-value pair to the dictionary\n",
        "my_dict[\"d\"] = \"orange\"\n",
        "print(my_dict)  # prints { \"a\": \"apple\", \"b\": \"banana\", \"c\": \"cherry\", \"d\": \"orange\" }\n"
      ],
      "metadata": {
        "id": "GbYWNNxNc78o",
        "outputId": "0f87ff86-3dbc-4657-deec-0163959dd9e1",
        "colab": {
          "base_uri": "https://localhost:8080/"
        }
      },
      "execution_count": null,
      "outputs": [
        {
          "output_type": "stream",
          "name": "stdout",
          "text": [
            "{'a': 'apple', 'b': 'banana', 'c': 'cherry', 'd': 'orange'}\n"
          ]
        }
      ]
    },
    {
      "cell_type": "markdown",
      "source": [
        "You can remove key-value pairs from a dictionary using the del statement. For example:\n",
        "\n"
      ],
      "metadata": {
        "id": "w3YDVQ1CdCY4"
      }
    },
    {
      "cell_type": "code",
      "source": [
        "# Create a dictionary\n",
        "my_dict = {\n",
        "    \"a\": \"apple\",\n",
        "    \"b\": \"banana\",\n",
        "    \"c\": \"cherry\"\n",
        "}\n",
        "\n",
        "# Remove the key-value pair for the key \"b\"\n",
        "del my_dict[\"b\"]\n",
        "print(my_dict)  # prints { \"a\": \"apple\", \"c\": \"cherry\" }\n"
      ],
      "metadata": {
        "id": "o3n9SNbQdETj",
        "outputId": "aee98ecc-8f56-467c-b26a-190c9979833c",
        "colab": {
          "base_uri": "https://localhost:8080/"
        }
      },
      "execution_count": null,
      "outputs": [
        {
          "output_type": "stream",
          "name": "stdout",
          "text": [
            "{'a': 'apple', 'c': 'cherry'}\n"
          ]
        }
      ]
    },
    {
      "cell_type": "code",
      "source": [
        "from IPython.display import HTML\n",
        "\n",
        "HTML('<iframe id=\"kmsembed-1_c3wsuqvq\" width=\"640\" height=\"394\" src=\"https://mediaspace.illinois.edu/embed/secure/iframe/entryId/1_c3wsuqvq/uiConfId/26883701/st/0\" class=\"kmsembed\" allowfullscreen webkitallowfullscreen mozAllowFullScreen allow=\"autoplay *; fullscreen *; encrypted-media *\" referrerPolicy=\"no-referrer-when-downgrade\" sandbox=\"allow-downloads allow-forms allow-same-origin allow-scripts allow-top-navigation allow-pointer-lock allow-popups allow-modals allow-orientation-lock allow-popups-to-escape-sandbox allow-presentation allow-top-navigation-by-user-activation\" frameborder=\"0\" title=\"GEOL117_L1_Vid5\"></iframe>')\n"
      ],
      "metadata": {
        "colab": {
          "base_uri": "https://localhost:8080/",
          "height": 415
        },
        "id": "DpLpMgHrRLK-",
        "outputId": "c8de81ec-b4e6-4576-f4c6-af41a6b0bbef"
      },
      "execution_count": null,
      "outputs": [
        {
          "output_type": "execute_result",
          "data": {
            "text/plain": [
              "<IPython.core.display.HTML object>"
            ],
            "text/html": [
              "<iframe id=\"kmsembed-1_c3wsuqvq\" width=\"640\" height=\"394\" src=\"https://mediaspace.illinois.edu/embed/secure/iframe/entryId/1_c3wsuqvq/uiConfId/26883701/st/0\" class=\"kmsembed\" allowfullscreen webkitallowfullscreen mozAllowFullScreen allow=\"autoplay *; fullscreen *; encrypted-media *\" referrerPolicy=\"no-referrer-when-downgrade\" sandbox=\"allow-downloads allow-forms allow-same-origin allow-scripts allow-top-navigation allow-pointer-lock allow-popups allow-modals allow-orientation-lock allow-popups-to-escape-sandbox allow-presentation allow-top-navigation-by-user-activation\" frameborder=\"0\" title=\"GEOL117_L1_Vid5\"></iframe>"
            ]
          },
          "metadata": {},
          "execution_count": 6
        }
      ]
    },
    {
      "cell_type": "markdown",
      "source": [
        "# Loops\n",
        "In Python, you can use loops to repeat a block of code multiple times.\n",
        "\n",
        "**'for' loops**\n",
        "\n",
        "A 'for' loop allows you to iterate over a sequence of items, such as a list or a string.\n",
        "\n",
        "For example:"
      ],
      "metadata": {
        "id": "N3OUSXgJdG2D"
      }
    },
    {
      "cell_type": "code",
      "source": [
        "# Print the numbers from 1 to 5\n",
        "for i in range(1, 6):\n",
        "    print(i)\n"
      ],
      "metadata": {
        "id": "_e5u5y1CdMzk",
        "outputId": "8a1ce109-0885-4da2-b600-9198217d5271",
        "colab": {
          "base_uri": "https://localhost:8080/"
        }
      },
      "execution_count": null,
      "outputs": [
        {
          "output_type": "stream",
          "name": "stdout",
          "text": [
            "1\n",
            "2\n",
            "3\n",
            "4\n",
            "5\n"
          ]
        }
      ]
    },
    {
      "cell_type": "markdown",
      "source": [
        "The range function generates a sequence of numbers from the start value to the end value (not inclusive).\n",
        "\n",
        "You can also use a for loop to iterate over a list of items.\n",
        "\n",
        "For example:"
      ],
      "metadata": {
        "id": "ri28E1chdoSM"
      }
    },
    {
      "cell_type": "code",
      "source": [
        "# Create a list of fruits\n",
        "fruits = [\"apple\", \"banana\", \"cherry\"]\n",
        "\n",
        "# Print each fruit in the list\n",
        "for fruit in fruits:\n",
        "    print(fruit)\n"
      ],
      "metadata": {
        "id": "VwpX-dledpir",
        "outputId": "a2ba6ff6-89d6-477a-fb7b-58b1a934d48e",
        "colab": {
          "base_uri": "https://localhost:8080/"
        }
      },
      "execution_count": null,
      "outputs": [
        {
          "output_type": "stream",
          "name": "stdout",
          "text": [
            "apple\n",
            "banana\n",
            "cherry\n"
          ]
        }
      ]
    },
    {
      "cell_type": "markdown",
      "source": [
        "You can use the enumerate function to iterate over a list of items and get the index of each item.\n",
        "\n",
        "For example:"
      ],
      "metadata": {
        "id": "eb6GGeMxdOQR"
      }
    },
    {
      "cell_type": "code",
      "source": [
        "# Create a list of fruits\n",
        "fruits = [\"apple\", \"banana\", \"cherry\"]\n",
        "\n",
        "# Print each fruit in the list\n",
        "for fruit in fruits:\n",
        "    print(fruit)\n"
      ],
      "metadata": {
        "id": "Xw_oqeJHdQmR",
        "outputId": "d85284c1-fa9b-4f0b-f7d5-f54c2dfe2cf5",
        "colab": {
          "base_uri": "https://localhost:8080/"
        }
      },
      "execution_count": null,
      "outputs": [
        {
          "output_type": "stream",
          "name": "stdout",
          "text": [
            "apple\n",
            "banana\n",
            "cherry\n"
          ]
        }
      ]
    },
    {
      "cell_type": "markdown",
      "source": [
        "**'while' loops**\n",
        "A 'while' loop allows you to repeat a block of code as long as a certain condition is met.\n",
        "\n",
        "For example:"
      ],
      "metadata": {
        "id": "85x3HJEVdR1M"
      }
    },
    {
      "cell_type": "code",
      "source": [
        "# Print the numbers from 1 to 5\n",
        "i = 1\n",
        "while i <= 5:\n",
        "    print(i)\n",
        "    i += 1\n"
      ],
      "metadata": {
        "id": "IMZAAL0Od-oc",
        "outputId": "0619a585-f20c-4b22-8924-db27ebeb4e85",
        "colab": {
          "base_uri": "https://localhost:8080/"
        }
      },
      "execution_count": null,
      "outputs": [
        {
          "output_type": "stream",
          "name": "stdout",
          "text": [
            "1\n",
            "2\n",
            "3\n",
            "4\n",
            "5\n"
          ]
        }
      ]
    },
    {
      "cell_type": "markdown",
      "source": [
        "You can use the 'break' statement to exit a loop early.\n",
        "\n",
        "For example:"
      ],
      "metadata": {
        "id": "oLIPq1zreAbB"
      }
    },
    {
      "cell_type": "code",
      "source": [
        "# Print the numbers from 1 to 5, but exit the loop early if the number is 3\n",
        "i = 1\n",
        "while i <= 5:\n",
        "    if i == 3:\n",
        "        break\n",
        "    print(i)\n",
        "    i += 1\n"
      ],
      "metadata": {
        "id": "BKRD61KqeDmr",
        "outputId": "27488f88-3cd8-4ece-c9ef-4b9b6ac73f82",
        "colab": {
          "base_uri": "https://localhost:8080/"
        }
      },
      "execution_count": null,
      "outputs": [
        {
          "output_type": "stream",
          "name": "stdout",
          "text": [
            "1\n",
            "2\n"
          ]
        }
      ]
    },
    {
      "cell_type": "markdown",
      "source": [
        "You can use the 'continue' statement to skip the rest of the current iteration and move on to the next one.\n",
        "\n",
        "For example:"
      ],
      "metadata": {
        "id": "7ftftEjVeFBV"
      }
    },
    {
      "cell_type": "code",
      "source": [
        "# Print the numbers from 1 to 5, but skip the number 3\n",
        "i = 1\n",
        "while i <= 5:\n",
        "    if i == 3:\n",
        "        i += 1\n",
        "        continue\n",
        "    print(i)\n",
        "    i += 1\n"
      ],
      "metadata": {
        "id": "KALtUiONeIv5",
        "outputId": "80b060db-e149-4c79-8f98-c640f73efbf0",
        "colab": {
          "base_uri": "https://localhost:8080/"
        }
      },
      "execution_count": null,
      "outputs": [
        {
          "output_type": "stream",
          "name": "stdout",
          "text": [
            "1\n",
            "2\n",
            "4\n",
            "5\n"
          ]
        }
      ]
    },
    {
      "cell_type": "markdown",
      "source": [
        "#Functions\n",
        "In Python, you can define a function to encapsulate a block of code that you want to reuse.\n",
        "\n",
        "To define a function, you can use the def keyword followed by the function name and a set of parentheses () that may contain parameters. The code block for the function is indented and starts with a colon :.\n",
        "\n",
        "For example:"
      ],
      "metadata": {
        "id": "eTcEOyBceKVs"
      }
    },
    {
      "cell_type": "code",
      "source": [
        "def greet(name):\n",
        "    \"\"\"\n",
        "    Prints a greeting for the given name.\n",
        "    \"\"\"\n",
        "    print(f\"Hello, {name}!\")\n"
      ],
      "metadata": {
        "id": "6Hm6i2KheaD9"
      },
      "execution_count": null,
      "outputs": []
    },
    {
      "cell_type": "markdown",
      "source": [
        "To call a function, you can use the function name followed by a set of parentheses () that may contain arguments.\n",
        "\n",
        "For example:"
      ],
      "metadata": {
        "id": "FSyMxm3UebfY"
      }
    },
    {
      "cell_type": "code",
      "source": [
        "# Define a function\n",
        "def greet(name):\n",
        "    \"\"\"\n",
        "    Prints a greeting for the given name.\n",
        "    \"\"\"\n",
        "    print(f\"Hello, {name}!\")\n",
        "\n",
        "# Call the function\n",
        "greet(\"John\")  # prints \"Hello, John!\"\n",
        "greet(\"Mary\")  # prints \"Hello, Mary!\"\n"
      ],
      "metadata": {
        "id": "-BdxOjooeeHl",
        "colab": {
          "base_uri": "https://localhost:8080/"
        },
        "outputId": "5105f67f-f437-49bd-9eae-daa4aad2c3f4"
      },
      "execution_count": null,
      "outputs": [
        {
          "output_type": "stream",
          "name": "stdout",
          "text": [
            "Hello, John!\n",
            "Hello, Mary!\n"
          ]
        }
      ]
    },
    {
      "cell_type": "markdown",
      "source": [
        "You can define a function with parameters to accept input values. The parameters are specified in the parentheses () after the function name.\n",
        "\n",
        "For example:"
      ],
      "metadata": {
        "id": "kTnptgtwegEG"
      }
    },
    {
      "cell_type": "code",
      "source": [
        "# Define a function with parameters\n",
        "def add(x, y):\n",
        "    \"\"\"\n",
        "    Returns the sum of x and y.\n",
        "    \"\"\"\n",
        "    return x + y\n",
        "\n",
        "# Call the function with arguments\n",
        "result = add(10, 20)  # result is 30\n"
      ],
      "metadata": {
        "id": "Uhhji0VSeiEe"
      },
      "execution_count": null,
      "outputs": []
    },
    {
      "cell_type": "markdown",
      "source": [
        "You can define a function with a default value for a parameter. If the caller does not provide a value for the parameter, the default value will be used.\n",
        "\n",
        "For example:"
      ],
      "metadata": {
        "id": "Nbk0fp03ej7v"
      }
    },
    {
      "cell_type": "code",
      "source": [
        "# Define a function with a default value for a parameter\n",
        "def add(x, y=10):\n",
        "    \"\"\"\n",
        "    Returns the sum of x and y.\n",
        "    \"\"\"\n",
        "    return x + y\n",
        "\n",
        "# Call the function with one argument\n",
        "result = add(10)  # result is 20\n",
        "\n",
        "# Call the function with two arguments\n",
        "result = add(10, 20)  # result is 30\n"
      ],
      "metadata": {
        "id": "fCsENps-eq64"
      },
      "execution_count": null,
      "outputs": []
    },
    {
      "cell_type": "markdown",
      "source": [
        "You can define a function with a variable number of arguments by using the *args parameter. The *args parameter allows the function to accept any number of arguments as a tuple.\n",
        "\n",
        "For example:"
      ],
      "metadata": {
        "id": "zsaRPO6werh9"
      }
    },
    {
      "cell_type": "code",
      "source": [
        "# Define a function with a variable number of arguments\n",
        "def add(*args):\n",
        "    \"\"\"\n",
        "    Returns the sum of all arguments.\n",
        "    \"\"\"\n",
        "    total = 0\n",
        "    for i in args:\n",
        "        total += i\n",
        "    return total\n",
        "\n",
        "# Call the function with multiple arguments\n",
        "result = add(1, 2, 3, 4, 5)  # result is 15\n"
      ],
      "metadata": {
        "id": "6wSy7URvet61"
      },
      "execution_count": null,
      "outputs": []
    },
    {
      "cell_type": "markdown",
      "source": [
        "You can define a function with a variable number of keyword arguments by using the **kwargs parameter. The **kwargs parameter allows the function to accept any number of keyword arguments as a dictionary.\n",
        "\n",
        "For example:"
      ],
      "metadata": {
        "id": "Et3ca3eWew7B"
      }
    },
    {
      "cell_type": "code",
      "source": [
        "# Define a function with a variable number of keyword arguments\n",
        "def add(**kwargs):\n",
        "    \"\"\"\n",
        "    Returns the sum of all keyword arguments.\n",
        "    \"\"\"\n",
        "    total = 0\n",
        "    for i in kwargs.values():\n",
        "        total += i\n",
        "    return total\n",
        "\n",
        "# Call the function with multiple keyword arguments\n",
        "result = add(x=1, y=1)\n"
      ],
      "metadata": {
        "id": "ybEeSls1exsO"
      },
      "execution_count": null,
      "outputs": []
    },
    {
      "cell_type": "markdown",
      "source": [
        "As you can see, there are many basic concepts in Python that you can use to write simple programs. However, this is just the tip of the iceberg! There are many more advanced features and libraries available in Python that you can use to write more complex programs. While it may be tempting to try to cover everything in one lab, it's important to remember that programming takes time and practice. In this lab, you have learned some basic concepts and had a chance to try them out. In the following weeks, you will have more opportunities to build upon this foundation and learn new skills. So don't worry if you don't feel like an expert yet, programming is a journey and you will continue to improve with practice.\n",
        "\n",
        "# Part 2: Introduction to Google CoLab and Jupyter Notebook\n",
        "In this section, you will learn how to use Google CoLab and Jupyter Notebook to run Python code.\n",
        "\n",
        "Google CoLab is a cloud-based programming environment that allows you to write and execute code from anywhere with an internet connection. It is particularly useful for data analysis and machine learning tasks, as it allows you to access powerful computing resources without the need to set up a local programming environment.\n",
        "\n",
        "Jupyter Notebook is a web-based application that allows you to create and share documents that contain live code, equations, visualizations, and explanatory text. It is a popular tool for data scientists and is often used in conjunction with Google CoLab.\n",
        "\n",
        "To get started with Google CoLab and Jupyter Notebook, you will need to link your GitHub account with Google CoLab. Follow these steps to do so:\n",
        "\n",
        "\n",
        "1.   Go to https://colab.research.google.com/github/. You may need to adjust your pop-up settings in your browser.\n",
        "\n",
        "2.   If you are not already logged in to GitHub, you will be prompted to do so.  If you are already logged in, you will be asked to authorize Colaboratory.\n",
        "\n",
        "3.   You should see a pop-up window with an orange header. Make sure that the option to \"Include private repos\" is checked.\n",
        "\n",
        "4. Navigate to your desired repository and click on the \".ipynb\" file you want to work with. Make sure that your user name is displayed, not someone else's.\n",
        "\n",
        "5. The Jupyter Notebook will open in a new tab in your browser.\n",
        "\n",
        "Now that you have a Jupyter Notebook open, let's try running some code. In the cell below, type print(\"Hello, CoLab!\") and press Shift+Enter to run the code."
      ],
      "metadata": {
        "id": "hzX8kx0lVyH4"
      }
    },
    {
      "cell_type": "markdown",
      "source": [],
      "metadata": {
        "id": "4etG2YyfbsrN"
      }
    },
    {
      "cell_type": "code",
      "source": [
        "print(\"Hello, CoLab!\")"
      ],
      "metadata": {
        "id": "Eyoq7kUDWyum",
        "colab": {
          "base_uri": "https://localhost:8080/"
        },
        "outputId": "ec0cc620-9bb7-468c-ef8b-85ab6271f46b"
      },
      "execution_count": null,
      "outputs": [
        {
          "output_type": "stream",
          "name": "stdout",
          "text": [
            "Hello, CoLab!\n"
          ]
        }
      ]
    },
    {
      "cell_type": "markdown",
      "source": [
        "You can also use Markdown cells to write explanations, equations, and other text in your Jupyter Notebook. To create a Markdown cell, click on the cell and select \"Markdown\" from the dropdown menu in the toolbar. Then, you can type your text in the cell and press Shift+Enter to render it.\n",
        "\n",
        "For example, to write an equation in a Markdown cell, you can use LaTeX syntax. LaTeX is a typesetting system that is widely used in the scientific community for formatting equations and other technical documents.\n",
        "\n",
        "To write an equation in LaTeX, enclose it in dollar signs ($). For example, to write the equation for the area of a circle, you can use the following code:"
      ],
      "metadata": {
        "id": "GcHTzvDlW0fW"
      }
    },
    {
      "cell_type": "code",
      "source": [
        "from math import pi\n",
        "r = float(input(\"Enter the radius of the circle: \"))\n",
        "A = pi * r**2\n",
        "print(f\"The area of the circle with radius {r} is {A:.2f}\")"
      ],
      "metadata": {
        "colab": {
          "base_uri": "https://localhost:8080/"
        },
        "id": "StlLVAyLW2rN",
        "outputId": "54fdbcd2-e868-41cf-8e0f-a9281f638b0e"
      },
      "execution_count": 1,
      "outputs": [
        {
          "output_type": "stream",
          "name": "stdout",
          "text": [
            "Enter the radius of the circle: 4\n",
            "The area of the circle with radius 4.0 is 50.27\n"
          ]
        }
      ]
    },
    {
      "cell_type": "markdown",
      "source": [
        "Try writing these equations in a Markdown cell below.\n",
        "\n",
        "# Part 3: Modifying and Copying Code\n",
        "\n",
        "Now that you have learned the basics of Python and Jupyter Notebook, let's try making some simple modifications to the code.\n",
        "\n",
        "In the cell below, write a for loop that prints the numbers from 1 to 10. You can use the following code as a starting point:"
      ],
      "metadata": {
        "id": "qkj4xV9WXAus"
      }
    },
    {
      "cell_type": "code",
      "source": [
        "for i in range(1, 11):\n",
        "  print(i)"
      ],
      "metadata": {
        "colab": {
          "base_uri": "https://localhost:8080/"
        },
        "id": "0jagbMpyW-pQ",
        "outputId": "68ff4529-fc5f-426b-81ff-07777a03fefd"
      },
      "execution_count": null,
      "outputs": [
        {
          "output_type": "stream",
          "name": "stdout",
          "text": [
            "1\n",
            "2\n",
            "3\n",
            "4\n",
            "5\n",
            "6\n",
            "7\n",
            "8\n",
            "9\n",
            "10\n"
          ]
        }
      ]
    },
    {
      "cell_type": "markdown",
      "source": [
        "Try modifying the code to print the numbers from 1 to 20 instead."
      ],
      "metadata": {
        "id": "STTK-dw0XEIa"
      }
    },
    {
      "cell_type": "code",
      "source": [
        "for i in range(1, 21):\n",
        "  print(i)"
      ],
      "metadata": {
        "colab": {
          "base_uri": "https://localhost:8080/"
        },
        "id": "cKL2107oXE9z",
        "outputId": "fe1c977f-1170-43ba-bb6d-35e2acd1c753"
      },
      "execution_count": null,
      "outputs": [
        {
          "output_type": "stream",
          "name": "stdout",
          "text": [
            "1\n",
            "2\n",
            "3\n",
            "4\n",
            "5\n",
            "6\n",
            "7\n",
            "8\n",
            "9\n",
            "10\n",
            "11\n",
            "12\n",
            "13\n",
            "14\n",
            "15\n",
            "16\n",
            "17\n",
            "18\n",
            "19\n",
            "20\n"
          ]
        }
      ]
    },
    {
      "cell_type": "markdown",
      "source": [
        "Great! Now let's try copying and pasting a section of code.\n",
        "\n",
        "In the cell below, copy and paste the code you just wrote, but modify it to print the squares of the numbers from 1 to 10 instead of the numbers themselves."
      ],
      "metadata": {
        "id": "Wi4eR2mMXJzs"
      }
    },
    {
      "cell_type": "code",
      "source": [
        "for i in range(1, 11):\n",
        "  print(i**2)"
      ],
      "metadata": {
        "colab": {
          "base_uri": "https://localhost:8080/"
        },
        "id": "IZanllYgXMDM",
        "outputId": "fc4a354b-9703-48ce-cede-cd388cd44418"
      },
      "execution_count": null,
      "outputs": [
        {
          "output_type": "stream",
          "name": "stdout",
          "text": [
            "1\n",
            "4\n",
            "9\n",
            "16\n",
            "25\n",
            "36\n",
            "49\n",
            "64\n",
            "81\n",
            "100\n"
          ]
        }
      ]
    },
    {
      "cell_type": "markdown",
      "source": [
        "## Part 4: Submitting Your Work\n",
        "\n",
        "### Using Google Colab's GitHub Integration with GitHub Classroom\n",
        "\n",
        "To easily submit your work for this lab via GitHub Classroom and Google Colab's GitHub Integration, follow these steps:\n",
        "\n",
        "1. **Save Your Work in Colab**:\n",
        "   - Before proceeding, ensure you've saved the latest changes in your Colab notebook.\n",
        "   - You can do this using the `File > Save` menu or by pressing the `Ctrl + S` keyboard shortcut.\n",
        "\n",
        "2. **Link Colab to GitHub**:\n",
        "   - Navigate to the `File` option located at the top left corner of your Colab notebook.\n",
        "   - Select `Save a copy in GitHub` from the dropdown.\n",
        "   - If you're linking Colab with GitHub for the first time, you'll be prompted for permission. Please grant the necessary permissions.\n",
        "\n",
        "3. **Commit to Your GitHub Classroom Repository**:\n",
        "   - A dialog box will appear after step 2.\n",
        "   - Choose your specific repository for this assignment from the dropdown (it should be automatically created via GitHub Classroom).\n",
        "   - Type in a meaningful commit message. For this lab, something like \"Completed Lab 1\" would be appropriate.\n",
        "   - Click `OK`.\n",
        "\n",
        "4. **Verify Your Commit on GitHub**:\n",
        "   - Open your web browser and visit your GitHub repository for this assignment.\n",
        "   - Confirm that your latest changes are visible and that the commit message you provided appears in the commit history.\n",
        "\n",
        "That's it! You have successfully committed your assignment via GitHub Classroom. Your instructor will be able to access and grade your submission directly through GitHub.\n"
      ],
      "metadata": {
        "id": "A2zp7wBWXNvR"
      }
    }
  ]
}